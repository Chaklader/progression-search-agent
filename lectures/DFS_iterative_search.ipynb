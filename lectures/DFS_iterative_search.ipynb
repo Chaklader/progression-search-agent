{
 "cells": [
  {
   "cell_type": "markdown",
   "metadata": {
    "graffitiCellId": "id_m8owu67"
   },
   "source": [
    "# Graph Depth First Search\n",
    "In this exercise, you'll see how to do a depth first search on a graph. To start, let's create a graph class in Python."
   ]
  },
  {
   "cell_type": "code",
   "execution_count": 2,
   "metadata": {
    "graffitiCellId": "id_ahrjg5m"
   },
   "outputs": [],
   "source": [
    "class GraphNode(object):\n",
    "    \"\"\"Represents a node in an undirected graph for DFS traversal.\n",
    "    \n",
    "    Attributes:\n",
    "        value: The value stored in the node (can be any type)\n",
    "        children: List of adjacent nodes (GraphNode objects)\n",
    "    \"\"\"\n",
    "    def __init__(self, val):\n",
    "        self.value = val\n",
    "        self.children = []\n",
    "        \n",
    "    def add_child(self, new_node):\n",
    "        \"\"\"Adds an adjacent node (creates undirected edge).\n",
    "        \n",
    "        Args:\n",
    "            new_node (GraphNode): Node to connect to\n",
    "        \"\"\"\n",
    "        self.children.append(new_node)\n",
    "    \n",
    "    def remove_child(self, del_node):\n",
    "        \"\"\"Removes connection to a child node if exists.\n",
    "        \n",
    "        Args:\n",
    "            del_node (GraphNode): Node to remove connection from\n",
    "        \"\"\"\n",
    "        if del_node in self.children:\n",
    "            self.children.remove(del_node)\n",
    "\n",
    "class Graph(object):\n",
    "    \"\"\"Manages an undirected graph structure using adjacency lists.\n",
    "    \n",
    "    Attributes:\n",
    "        nodes: List of GraphNode objects in the graph\n",
    "    \"\"\"\n",
    "    def __init__(self, node_list):\n",
    "        self.nodes = node_list\n",
    "        \n",
    "    def add_edge(self, node1, node2):\n",
    "        \"\"\"Creates an undirected edge between two nodes.\n",
    "        \n",
    "        Args:\n",
    "            node1 (GraphNode): First node\n",
    "            node2 (GraphNode): Second node\n",
    "        \"\"\"\n",
    "        if(node1 in self.nodes and node2 in self.nodes):\n",
    "            node1.add_child(node2)\n",
    "            node2.add_child(node1)\n",
    "            \n",
    "    def remove_edge(self, node1, node2):\n",
    "        \"\"\"Removes undirected edge between nodes if exists.\n",
    "        \n",
    "        Args:\n",
    "            node1 (GraphNode): First node\n",
    "            node2 (GraphNode): Second node\n",
    "        \"\"\"\n",
    "        if(node1 in self.nodes and node2 in self.nodes):\n",
    "            node1.remove_child(node2)\n",
    "            node2.remove_child(node1)"
   ]
  },
  {
   "cell_type": "markdown",
   "metadata": {
    "graffitiCellId": "id_1gmwlh4"
   },
   "source": [
    "Now let's create the graph."
   ]
  },
  {
   "cell_type": "code",
   "execution_count": 3,
   "metadata": {
    "graffitiCellId": "id_7t1mjv6"
   },
   "outputs": [],
   "source": [
    "nodeG = GraphNode('G')\n",
    "nodeR = GraphNode('R')\n",
    "nodeA = GraphNode('A')\n",
    "nodeP = GraphNode('P')\n",
    "nodeH = GraphNode('H')\n",
    "nodeS = GraphNode('S')\n",
    "\n",
    "graph1 = Graph([nodeS,nodeH,nodeG,nodeP,nodeR,nodeA] ) \n",
    "\n",
    "graph1.add_edge(nodeG,nodeR)\n",
    "graph1.add_edge(nodeA,nodeR)\n",
    "graph1.add_edge(nodeA,nodeG)\n",
    "graph1.add_edge(nodeR,nodeP)\n",
    "graph1.add_edge(nodeH,nodeG)\n",
    "graph1.add_edge(nodeH,nodeP)\n",
    "graph1.add_edge(nodeS,nodeR)"
   ]
  },
  {
   "cell_type": "markdown",
   "metadata": {
    "graffitiCellId": "id_8vfpmgw"
   },
   "source": [
    "## Implement DFS\n",
    "Using what you know about DFS for trees, apply this to graphs. Implement the `dfs_search` to return the `GraphNode` with the value `search_value` starting at the `root_node`."
   ]
  },
  {
   "cell_type": "code",
   "execution_count": 4,
   "metadata": {
    "graffitiCellId": "id_4sn6eaw"
   },
   "outputs": [],
   "source": [
    "def dfs_search(root_node, search_value):\n",
    "    \"\"\"Performs depth-first search (iterative implementation) on a graph.\n",
    "    \n",
    "    Args:\n",
    "        root_node (GraphNode): Starting node for the search\n",
    "        search_value: Target value to find in the graph nodes\n",
    "        \n",
    "    Returns:\n",
    "        GraphNode: The first node found containing search_value, or None if not found\n",
    "        \n",
    "    Note:\n",
    "        - Uses a stack (LIFO) to explore nodes depth-first\n",
    "        - Tracks visited nodes using a set for O(1) lookups\n",
    "        - Time complexity: O(V + E) where V is vertices and E is edges\n",
    "        - Space complexity: O(V) in worst case\n",
    "        \n",
    "    Example:\n",
    "        node = dfs_search(graph.nodes[0], 'target_value')\n",
    "    \"\"\"\n",
    "    visited = set()                         # Sets are faster for lookups\n",
    "    stack = [root_node]                     # Start with a given root node\n",
    "    \n",
    "    while len(stack) > 0:                   # Repeat until the stack is empty\n",
    "        current_node = stack.pop()          # Pop out a node added recently \n",
    "        visited.add(current_node)           # Mark it as visited\n",
    "\n",
    "        if current_node.value == search_value:\n",
    "            return current_node\n",
    "\n",
    "        # Check all the neighbours\n",
    "        for child in current_node.children:\n",
    "            # If node hasn't been visited and not in stack\n",
    "            if (child not in visited) and (child not in stack):         \n",
    "                stack.append(child)\n",
    "                "
   ]
  },
  {
   "cell_type": "markdown",
   "metadata": {
    "graffitiCellId": "id_0aafts6"
   },
   "source": [
    "### Tests"
   ]
  },
  {
   "cell_type": "code",
   "execution_count": 5,
   "metadata": {
    "graffitiCellId": "id_3k4dgr7"
   },
   "outputs": [],
   "source": [
    "assert nodeA == dfs_search(nodeS, 'A')\n",
    "assert nodeS == dfs_search(nodeP, 'S')\n",
    "assert nodeR == dfs_search(nodeH, 'R')"
   ]
  }
 ],
 "metadata": {
  "graffiti": {
   "firstAuthorId": "10694620118",
   "id": "id_9f31yr7",
   "language": "EN"
  },
  "kernelspec": {
   "display_name": "ml",
   "language": "python",
   "name": "python3"
  },
  "language_info": {
   "codemirror_mode": {
    "name": "ipython",
    "version": 3
   },
   "file_extension": ".py",
   "mimetype": "text/x-python",
   "name": "python",
   "nbconvert_exporter": "python",
   "pygments_lexer": "ipython3",
   "version": "3.12.5"
  }
 },
 "nbformat": 4,
 "nbformat_minor": 2
}
