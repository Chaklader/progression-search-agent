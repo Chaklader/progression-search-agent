{
 "cells": [
  {
   "cell_type": "markdown",
   "metadata": {
    "graffitiCellId": "id_qfx0fir"
   },
   "source": [
    "# Graph Depth-First Search With Recursion"
   ]
  },
  {
   "cell_type": "markdown",
   "metadata": {
    "graffitiCellId": "id_dccwaz9"
   },
   "source": [
    "We've done depth-first search previously using an iterative approach (i.e., using a loop). In this notebook, we'll show how to implement a recursive soluton.\n",
    "\n",
    "The basic idea is to select a node and explore all the possible paths from that node, and to apply this recursively to each node we are exploring.\n",
    "\n",
    "You can see some helpful illustrations with various combinations here: https://www.cs.usfca.edu/~galles/visualization/DFS.html"
   ]
  },
  {
   "cell_type": "code",
   "execution_count": 1,
   "metadata": {
    "graffitiCellId": "id_g8yswc8"
   },
   "outputs": [],
   "source": [
    "class Node:\n",
    "    \"\"\"Represents a node in a graph for recursive DFS traversal.\n",
    "    \n",
    "    Attributes:\n",
    "        value: The value stored in the node (can be any type)\n",
    "        children: List of adjacent nodes (Node objects)\n",
    "    \"\"\"\n",
    "    def __init__(self, val):\n",
    "        self.value = val\n",
    "        self.children = []\n",
    "        \n",
    "    def add_child(self, new_node):\n",
    "        \"\"\"Adds an undirected edge to another node.\n",
    "        \n",
    "        Args:\n",
    "            new_node (Node): Node to connect to\n",
    "        \"\"\"\n",
    "        self.children.append(new_node)\n",
    "    \n",
    "    def remove_child(self, del_node):\n",
    "        \"\"\"Removes connection to a child node if exists.\n",
    "        \n",
    "        Args:\n",
    "            del_node (Node): Node to disconnect from\n",
    "        \"\"\"\n",
    "        if del_node in self.children:\n",
    "            self.children.remove(del_node)\n",
    "\n",
    "class Graph():\n",
    "    \"\"\"Manages an undirected graph structure for recursive DFS.\n",
    "    \n",
    "    Attributes:\n",
    "        nodes: List of Node objects in the graph\n",
    "    \"\"\"\n",
    "    def __init__(self, node_list):\n",
    "        self.nodes = node_list\n",
    "        \n",
    "    def add_edge(self, node1, node2):\n",
    "        \"\"\"Creates an undirected edge between two nodes.\n",
    "        \n",
    "        Args:\n",
    "            node1 (Node): First node\n",
    "            node2 (Node): Second node\n",
    "            \n",
    "        Raises:\n",
    "            ValueError: If either node is not in the graph\n",
    "        \"\"\"\n",
    "        if(node1 in self.nodes and node2 in self.nodes):\n",
    "            node1.add_child(node2)\n",
    "            node2.add_child(node1)\n",
    "            \n",
    "    def remove_edge(self, node1, node2):\n",
    "        \"\"\"Removes undirected edge between nodes if exists.\n",
    "        \n",
    "        Args:\n",
    "            node1 (Node): First node\n",
    "            node2 (Node): Second node\n",
    "        \"\"\"\n",
    "        if(node1 in self.nodes and node2 in self.nodes):\n",
    "            node1.remove_child(node2)\n",
    "            node2.remove_child(node1)"
   ]
  },
  {
   "cell_type": "markdown",
   "metadata": {
    "graffitiCellId": "id_8yd5g3t"
   },
   "source": [
    "### Initializing Graph with an example"
   ]
  },
  {
   "cell_type": "markdown",
   "metadata": {
    "graffitiCellId": "id_gcu50h2"
   },
   "source": [
    "![title](assets/graphs.jpg)\n",
    "Consider the above graph structure. The following code initializes all the edges according to the above structure."
   ]
  },
  {
   "cell_type": "code",
   "execution_count": 2,
   "metadata": {
    "graffitiCellId": "id_l75ft9n"
   },
   "outputs": [],
   "source": [
    "# Creating a graph as above.\n",
    "nodeG = Node('G')\n",
    "nodeR = Node('R')\n",
    "nodeA = Node('A')\n",
    "nodeP = Node('P')\n",
    "nodeH = Node('H')\n",
    "nodeS = Node('S')\n",
    "\n",
    "graph1 = Graph([nodeS,nodeH,nodeG,nodeP,nodeR,nodeA] ) \n",
    "\n",
    "graph1.add_edge(nodeG,nodeR)\n",
    "graph1.add_edge(nodeA,nodeR)\n",
    "graph1.add_edge(nodeA,nodeG)\n",
    "graph1.add_edge(nodeR,nodeP)\n",
    "graph1.add_edge(nodeH,nodeG)\n",
    "graph1.add_edge(nodeH,nodeP)\n",
    "graph1.add_edge(nodeS,nodeR)"
   ]
  },
  {
   "cell_type": "code",
   "execution_count": 3,
   "metadata": {
    "graffitiCellId": "id_j63zvsw"
   },
   "outputs": [
    {
     "name": "stdout",
     "output_type": "stream",
     "text": [
      "parent node =  S\n",
      "children\n",
      "R \n",
      "\n",
      "parent node =  H\n",
      "children\n",
      "G P \n",
      "\n",
      "parent node =  G\n",
      "children\n",
      "R A H \n",
      "\n",
      "parent node =  P\n",
      "children\n",
      "R H \n",
      "\n",
      "parent node =  R\n",
      "children\n",
      "G A P S \n",
      "\n",
      "parent node =  A\n",
      "children\n",
      "R G \n",
      "\n"
     ]
    }
   ],
   "source": [
    "# To verify that the graph is created accurately.\n",
    "# Let's just print all the parent nodes and child nodes.\n",
    "for each in graph1.nodes:\n",
    "    print('parent node = ',each.value,end='\\nchildren\\n')\n",
    "    for each in each.children:\n",
    "        print(each.value,end=' ')\n",
    "    print('\\n')"
   ]
  },
  {
   "cell_type": "markdown",
   "metadata": {
    "graffitiCellId": "id_bweutr7"
   },
   "source": [
    "### Sample input and output \n",
    "\n",
    "The output would vary based on the implementation of your algorithm, the order in which children are stored within the adjacency list."
   ]
  },
  {
   "cell_type": "markdown",
   "metadata": {
    "graffitiCellId": "id_mqzklsq"
   },
   "source": [
    "### DFS using recursion\n",
    "Now that we have our example graph initialized, we are ready to do the actual depth-first search. Here's what that looks like:"
   ]
  },
  {
   "cell_type": "code",
   "execution_count": 6,
   "metadata": {
    "graffitiCellId": "id_urjcr3u"
   },
   "outputs": [],
   "source": [
    "def dfs_recursion_start(start_node, search_value):\n",
    "    \"\"\"Entry point for recursive DFS search.\n",
    "    \n",
    "    Args:\n",
    "        start_node (Node): The starting node for the search\n",
    "        search_value: The value to search for in the graph\n",
    "        \n",
    "    Returns:\n",
    "        Node: The node containing search_value if found, None otherwise\n",
    "        \n",
    "    Note:\n",
    "        Initializes the visited set before starting recursion.\n",
    "        Wrapper function provides cleaner interface for the recursive search.\n",
    "    \"\"\"\n",
    "    visited = set()               # Set to keep track of visited nodes.\n",
    "    return dfs_recursion(start_node, visited, search_value)\n",
    "\n",
    "def dfs_recursion(node, visited, search_value):\n",
    "    \"\"\"Recursive depth-first search implementation.\n",
    "    \n",
    "    Args:\n",
    "        node (Node): Current node being explored\n",
    "        visited (set): Set of already visited nodes\n",
    "        search_value: Target value being searched for\n",
    "        \n",
    "    Returns:\n",
    "        Node: The found node containing search_value, or None\n",
    "        \n",
    "    Note:\n",
    "        - Uses recursion to explore depth-first\n",
    "        - Tracks visited nodes to prevent cycles\n",
    "        - Stops recursion early if target is found\n",
    "        - Time complexity: O(V + E) where V is vertices and E is edges\n",
    "        - Space complexity: O(V) for call stack and visited set\n",
    "    \"\"\"\n",
    "    if node.value == search_value:\n",
    "        return node\n",
    "    \n",
    "    visited.add(node)\n",
    "    result = None\n",
    "\n",
    "    # Conditional recurse on each neighbour\n",
    "    for child in node.children:\n",
    "        if (child not in visited):\n",
    "                result = dfs_recursion(child, visited, search_value)\n",
    "                \n",
    "                # Once the match is found, no more recurse \n",
    "                if result is not None:  \n",
    "                    return result\n",
    "    return result"
   ]
  },
  {
   "cell_type": "code",
   "execution_count": 7,
   "metadata": {
    "graffitiCellId": "id_1hnatw7"
   },
   "outputs": [],
   "source": [
    "assert nodeA == dfs_recursion_start(nodeG, 'A')\n",
    "assert nodeA == dfs_recursion_start(nodeS, 'A')\n",
    "assert nodeS == dfs_recursion_start(nodeP, 'S')\n",
    "assert nodeR == dfs_recursion_start(nodeH, 'R')"
   ]
  }
 ],
 "metadata": {
  "graffiti": {
   "firstAuthorId": "10694620118",
   "id": "id_hv4tail",
   "language": "EN"
  },
  "kernelspec": {
   "display_name": "ml",
   "language": "python",
   "name": "python3"
  },
  "language_info": {
   "codemirror_mode": {
    "name": "ipython",
    "version": 3
   },
   "file_extension": ".py",
   "mimetype": "text/x-python",
   "name": "python",
   "nbconvert_exporter": "python",
   "pygments_lexer": "ipython3",
   "version": "3.12.5"
  }
 },
 "nbformat": 4,
 "nbformat_minor": 2
}
