{
 "cells": [
  {
   "cell_type": "markdown",
   "metadata": {
    "graffitiCellId": "id_qq1t7ap"
   },
   "source": [
    "## Dijkstra's Shortest Path Algorithm\n",
    "Suppose there is graph having nodes, where each node represents a city. A few pair of nodes are connected to each other, with their distance mentioned on the conneting edge.\n",
    "\n",
    "To find the shortest path from a given source to destination node in the example above, a Greedy approach would be - *At each current node, keep track of the nearest neighbour. We can determine the path in the reverse order once we have a table of nearest neighbours (optimal previous nodes).* For example, C is the optimal previous node for E. This way, the shortest path from `A` to `E` would be `A --> D --> C --> E`.\n",
    "\n",
    "And, if we wish to print the distance of each node from `A`, then it would look like:\n",
    "\n",
    "Here, the **Previous Optimal Node** is the \"best\" node which could lead us to the current node. \n",
    "\n",
    "## The Problem\n",
    "Using Dijkstra's algorithm, find the shortest path to all the nodes starting from a given single source node.  You need to print the distance of each node from the given source node. For the example quoted above, the distance of each node from `A` would be printed as:<br>\n",
    "```\n",
    "{'A': 0, 'D': 2, 'B': 5, 'E': 4, 'C': 3, 'F': 6}\n",
    "```"
   ]
  },
  {
   "cell_type": "markdown",
   "metadata": {
    "graffitiCellId": "id_75htzek"
   },
   "source": [
    "## The Algorithm\n",
    "1. Create a `result` dictionary. At the end of the program, `result` will have the shortest distance (value) for all nodes (key) in the graph. For our example, it will become as `{'A': 0, 'B': 5, 'C': 3, 'D': 2, 'F': 6, 'E': 4}`<br><br>\n",
    "1. Start with the source node. Distance from source to source itself is 0.  <br><br>\n",
    "1. The distance to all other nodes from the source is unknown initially, therefore set the initial distance to infinity.  <br><br>\n",
    "1. Create a set `unvisited` containing nodes that have not been visited. Initially, it will have all nodes of the graph.<br><br>\n",
    "1. Create a `path` dictionary that keeps track of the previous node (value) that can lead to the current node (key). At the end of the program, for our example, it will become as `{'B': 'A', 'C': 'D', 'D': 'A', 'F': 'C', 'E': 'C'}`. <br><br>\n",
    "1. As long as `unvisited` is non-empty, repeat the following:\n",
    " - Find the unvisited node having smallest known distance from the source node.  <br><br>\n",
    " - For the current node, find all the **unvisited neighbours**. For this, you have calculate the distance of each unvisited neighbour.  <br><br>\n",
    " - If the calculated distance of the **unvisited neighbour** is less than the already known distance in `result` dictionary, update the shortest distance in the `result` dictionary. <br><br>\n",
    " - If there is an update in the `result` dictionary, you need to update the `path` dictionary as well for the same key. <br><br>\n",
    " - Remove the current node from the `unvisited` set.\n",
    "\n",
    "\n",
    "**Note** - This implementation of the Dijkstra's algorithm is not very efficient. Currently it has a *O(n^2)* time complexity. We will see a better version in the next lesson - \"Graph Algorithms\" with *O(nlogn)* time complexity."
   ]
  },
  {
   "cell_type": "code",
   "execution_count": 1,
   "metadata": {
    "graffitiCellId": "id_kowh9ph"
   },
   "outputs": [],
   "source": [
    "from collections import defaultdict\n",
    "\n",
    "class Graph:\n",
    "    \"\"\"Represents a weighted, undirected graph for Dijkstra's shortest path algorithm.\n",
    "    \n",
    "    Attributes:\n",
    "        nodes (set): Contains all unique node values\n",
    "        neighbours (defaultdict): Adjacency list mapping nodes to their neighbors\n",
    "        distances (dict): Stores edge weights between connected nodes\n",
    "    \"\"\"\n",
    "    def __init__(self):\n",
    "        self.nodes = set()                   # A set cannot contain duplicate nodes\n",
    "        self.neighbours = defaultdict(list)  # Defaultdict provides empty list for missing keys\n",
    "        self.distances = {}                  # Stores edge weights between nodes\n",
    "\n",
    "    def add_node(self, value):\n",
    "        \"\"\"Adds a new node to the graph.\n",
    "        \n",
    "        Args:\n",
    "            value: The value of the node to add (can be any hashable type)\n",
    "        \"\"\"\n",
    "        self.nodes.add(value)\n",
    "\n",
    "    def add_edge(self, from_node, to_node, distance):\n",
    "        \"\"\"Adds a weighted undirected edge between two nodes.\n",
    "        \n",
    "        Args:\n",
    "            from_node: Starting node of the edge\n",
    "            to_node: Ending node of the edge  \n",
    "            distance (numeric): Weight/cost of the edge\n",
    "            \n",
    "        Note:\n",
    "            Creates entries in both directions to maintain undirected property\n",
    "        \"\"\"\n",
    "        self.neighbours[from_node].append(to_node)\n",
    "        self.neighbours[to_node].append(from_node)\n",
    "        self.distances[(from_node, to_node)] = distance\n",
    "        self.distances[(to_node, from_node)] = distance\n",
    "\n",
    "    def print_graph(self):\n",
    "        \"\"\"Prints the graph structure in readable format.\n",
    "        \n",
    "        Outputs:\n",
    "            - Set of all nodes\n",
    "            - Neighbor relationships\n",
    "            - All edge weights\n",
    "        \"\"\"\n",
    "        print(\"Set of Nodes are: \", self.nodes)\n",
    "        print(\"Neighbours are: \", self.neighbours)\n",
    "        print(\"Distances are: \", self.distances)"
   ]
  },
  {
   "cell_type": "markdown",
   "metadata": {
    "graffitiCellId": "id_cgrnklc"
   },
   "source": [
    "### Exercise - Write the function definition here\n"
   ]
  },
  {
   "cell_type": "code",
   "execution_count": 2,
   "metadata": {
    "graffitiCellId": "id_lo3by3j"
   },
   "outputs": [],
   "source": [
    "def dijkstra(graph, source):\n",
    "    \"\"\"Computes shortest paths from a source node to all other nodes in a weighted graph.\n",
    "    \n",
    "    Args:\n",
    "        graph (Graph): The graph object containing nodes, edges and weights\n",
    "        source: The starting node for path calculations\n",
    "        \n",
    "    Returns:\n",
    "        dict: A dictionary mapping each node to its minimum distance from source\n",
    "        \n",
    "    Note:\n",
    "        - Uses Dijkstra's greedy algorithm\n",
    "        - Handles only positive edge weights\n",
    "        - Time complexity: O(V^2) where V is number of vertices\n",
    "        - Space complexity: O(V) for storing results and unvisited nodes\n",
    "    \"\"\"\n",
    "    # Initialize result dictionary with infinity for all nodes except source\n",
    "    result = {node: float('infinity') for node in graph.nodes}\n",
    "    result[source] = 0  # Distance from source to itself is zero\n",
    "    \n",
    "    # Initialize unvisited with all nodes\n",
    "    unvisited = graph.nodes.copy()\n",
    "    \n",
    "    # Initialize path dictionary to store the path information\n",
    "    path = {node: '' for node in graph.nodes}\n",
    "    path[source] = source  # Path from source to itself is just the source\n",
    "    \n",
    "    while unvisited:\n",
    "        # 1. Find unvisited node with smallest known distance\n",
    "        min_distance = float('infinity')\n",
    "        current_node = None\n",
    "        \n",
    "        for node in unvisited:\n",
    "            if result[node] < min_distance:\n",
    "                min_distance = result[node]\n",
    "                current_node = node\n",
    "                \n",
    "        if current_node is None:\n",
    "            break  # No remaining reachable nodes\n",
    "            \n",
    "        # 2. Find unvisited neighbors and calculate their distances\n",
    "        for neighbor in graph.neighbours[current_node]:\n",
    "            if neighbor in unvisited:\n",
    "                # Calculate distance to neighbor through current node\n",
    "                distance = result[current_node] + graph.distances[(current_node, neighbor)]\n",
    "                \n",
    "                # 3. Update result if new distance is smaller\n",
    "                if distance < result[neighbor]:\n",
    "                    result[neighbor] = distance  # Update distance\n",
    "                    path[neighbor] = current_node  # Update path\n",
    "        \n",
    "        # 4. Mark current node as visited\n",
    "        unvisited.remove(current_node)\n",
    "    \n",
    "    return result"
   ]
  },
  {
   "cell_type": "markdown",
   "metadata": {
    "graffitiCellId": "id_o6c8r2m"
   },
   "source": [
    "**Implementation Details:**\n",
    "\n",
    "1. Initializes three dictionaries:\n",
    "    - result: Stores shortest distances from source to each node\n",
    "    - unvisited: Keeps track of nodes yet to be processed\n",
    "    - path: Stores the previous node in the optimal path\n",
    "\n",
    "2. Main loop continues while there are unvisited nodes:\n",
    "    - Finds the unvisited node with smallest known distance\n",
    "    - For each unvisited neighbor of current node:\n",
    "        - Calculates potential distance through current node\n",
    "        - Updates distance if new path is shorter\n",
    "        - Updates path information\n",
    "    - Marks current node as visited\n",
    "\n",
    "3. Returns the dictionary with shortest distances from source to all nodes\n",
    "\n",
    "<br>"
   ]
  },
  {
   "cell_type": "markdown",
   "metadata": {
    "graffitiCellId": "id_hae4wv9"
   },
   "source": [
    "### Test - Let's test your function"
   ]
  },
  {
   "cell_type": "code",
   "execution_count": 3,
   "metadata": {
    "graffitiCellId": "id_gh91otb"
   },
   "outputs": [
    {
     "name": "stdout",
     "output_type": "stream",
     "text": [
      "{'A': 0, 'E': 3, 'D': 2, 'C': 4, 'B': 3}\n"
     ]
    }
   ],
   "source": [
    "# Test 1\n",
    "testGraph = Graph()\n",
    "for node in ['A', 'B', 'C', 'D', 'E']:\n",
    "    testGraph.add_node(node)\n",
    "\n",
    "testGraph.add_edge('A','B',3)\n",
    "testGraph.add_edge('A','D',2)\n",
    "testGraph.add_edge('B','D',4)\n",
    "testGraph.add_edge('B','E',6)\n",
    "testGraph.add_edge('B','C',1)\n",
    "testGraph.add_edge('C','E',2)\n",
    "testGraph.add_edge('E','D',1)\n",
    "\n",
    "print(dijkstra(testGraph, 'A'))     # {'A': 0, 'D': 2, 'B': 3, 'E': 3, 'C': 4}"
   ]
  },
  {
   "cell_type": "code",
   "execution_count": 4,
   "metadata": {
    "graffitiCellId": "id_i5pengy"
   },
   "outputs": [
    {
     "name": "stdout",
     "output_type": "stream",
     "text": [
      "{'A': 0, 'C': 10, 'B': 5}\n"
     ]
    }
   ],
   "source": [
    "# Test 2\n",
    "graph = Graph()\n",
    "for node in ['A', 'B', 'C']:\n",
    "    graph.add_node(node)\n",
    "    \n",
    "graph.add_edge('A', 'B', 5)\n",
    "graph.add_edge('B', 'C', 5)\n",
    "graph.add_edge('A', 'C', 10)\n",
    "\n",
    "print(dijkstra(graph, 'A'))        # {'A': 0, 'C': 10, 'B': 5}"
   ]
  },
  {
   "cell_type": "code",
   "execution_count": 5,
   "metadata": {
    "graffitiCellId": "id_mna3duu"
   },
   "outputs": [
    {
     "name": "stdout",
     "output_type": "stream",
     "text": [
      "{'A': 0, 'E': 4, 'D': 2, 'C': 3, 'B': 5, 'F': 6}\n"
     ]
    }
   ],
   "source": [
    "# Test 3\n",
    "graph = Graph()\n",
    "for node in ['A', 'B', 'C', 'D', 'E', 'F']:\n",
    "    graph.add_node(node)\n",
    "    \n",
    "graph.add_edge('A', 'B', 5)\n",
    "graph.add_edge('A', 'C', 4)\n",
    "graph.add_edge('D', 'C', 1)\n",
    "graph.add_edge('B', 'C', 2)\n",
    "graph.add_edge('A', 'D', 2)\n",
    "graph.add_edge('B', 'F', 2)\n",
    "graph.add_edge('C', 'F', 3)\n",
    "graph.add_edge('E', 'F', 2)\n",
    "graph.add_edge('C', 'E', 1)\n",
    "\n",
    "print(dijkstra(graph, 'A'))       # {'A': 0, 'C': 3, 'B': 5, 'E': 4, 'D': 2, 'F': 6}"
   ]
  }
 ],
 "metadata": {
  "graffiti": {
   "firstAuthorId": "af9e0b36-2ad2-11ea-83c4-a78dc7ef519f",
   "id": "id_muf5xfw",
   "language": "EN"
  },
  "kernelspec": {
   "display_name": "ml",
   "language": "python",
   "name": "python3"
  },
  "language_info": {
   "codemirror_mode": {
    "name": "ipython",
    "version": 3
   },
   "file_extension": ".py",
   "mimetype": "text/x-python",
   "name": "python",
   "nbconvert_exporter": "python",
   "pygments_lexer": "ipython3",
   "version": "3.12.5"
  }
 },
 "nbformat": 4,
 "nbformat_minor": 2
}
